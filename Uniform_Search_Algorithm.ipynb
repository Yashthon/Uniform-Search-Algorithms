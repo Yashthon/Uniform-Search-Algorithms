{
  "nbformat": 4,
  "nbformat_minor": 0,
  "metadata": {
    "colab": {
      "name": "Uniform Search Algorithm.ipynb",
      "provenance": [],
      "collapsed_sections": [],
      "authorship_tag": "ABX9TyMzU386wF6pdh4S+oP0DCqC",
      "include_colab_link": true
    },
    "kernelspec": {
      "name": "python3",
      "display_name": "Python 3"
    },
    "language_info": {
      "name": "python"
    }
  },
  "cells": [
    {
      "cell_type": "markdown",
      "metadata": {
        "id": "view-in-github",
        "colab_type": "text"
      },
      "source": [
        "<a href=\"https://colab.research.google.com/github/Yashthon/Uniform-Search-Algorithms/blob/main/Uniform_Search_Algorithm.ipynb\" target=\"_parent\"><img src=\"https://colab.research.google.com/assets/colab-badge.svg\" alt=\"Open In Colab\"/></a>"
      ]
    },
    {
      "cell_type": "markdown",
      "source": [
        "# 1. Implement Breadth first Search"
      ],
      "metadata": {
        "id": "FoQReC4FZsbY"
      }
    },
    {
      "cell_type": "code",
      "source": [
        "graph = {\n",
        "    'S': ['A', 'B'],\n",
        "    'A': ['C', 'D'],\n",
        "    'C': [],\n",
        "    'D': [],\n",
        "    'B': ['E','F'],\n",
        "    'E': ['H'],\n",
        "    'H': [],\n",
        "    'F': ['I','G'],\n",
        "    'I': [],\n",
        "    'G': []\n",
        "}\n",
        "visited = []\n",
        "queue = []\n",
        "\n",
        "def bfs(visited, graph, node):\n",
        "  visited.append(node)\n",
        "  queue.append(node)\n",
        "\n",
        "  while queue:\n",
        "    m = queue.pop(0) \n",
        "    print (m, end = \" \") \n",
        "\n",
        "    for neighbour in graph[m]:\n",
        "      if neighbour not in visited:\n",
        "        visited.append(neighbour)\n",
        "        queue.append(neighbour)\n",
        "\n",
        "print(\"Following is the Breadth-First Search\")\n",
        "bfs(visited, graph, 'S')"
      ],
      "metadata": {
        "colab": {
          "base_uri": "https://localhost:8080/"
        },
        "id": "zgA6mOScgyVJ",
        "outputId": "b9ac4d33-2015-4fed-ab05-f00d62faef87"
      },
      "execution_count": null,
      "outputs": [
        {
          "output_type": "stream",
          "name": "stdout",
          "text": [
            "Following is the Breadth-First Search\n",
            "S A B C D E F H I G "
          ]
        }
      ]
    },
    {
      "cell_type": "markdown",
      "source": [
        "# 2. Implement Depth First Search"
      ],
      "metadata": {
        "id": "m2z_qNF-Z1VJ"
      }
    },
    {
      "cell_type": "code",
      "source": [
        "graph = {\n",
        "    'S':['A','H'],\n",
        "    'A':['B','C'],\n",
        "    'B':['D','E'],\n",
        "    'D':[],\n",
        "    'C':['G'],\n",
        "    'G':[],\n",
        "    'E':[],\n",
        "    'H':['I','J'],\n",
        "    'I':['K'],\n",
        "    'J':[],\n",
        "    'K':[]\n",
        "}\n",
        "visited = set()\n",
        "\n",
        "def dfs(visited, graph, node):\n",
        "    if node not in visited:\n",
        "        print (node)\n",
        "        visited.add(node)\n",
        "        for neighbour in graph[node]:\n",
        "            dfs(visited, graph, neighbour)\n",
        "print(\"Following is the Depth-First Search\")\n",
        "dfs(visited, graph, 'S')"
      ],
      "metadata": {
        "colab": {
          "base_uri": "https://localhost:8080/"
        },
        "id": "4mo57N4qm65_",
        "outputId": "136ab08a-75f5-401e-e9a4-924d87fc0dbc"
      },
      "execution_count": null,
      "outputs": [
        {
          "output_type": "stream",
          "name": "stdout",
          "text": [
            "Following is the Depth-First Search\n",
            "S\n",
            "A\n",
            "B\n",
            "D\n",
            "E\n",
            "C\n",
            "G\n",
            "H\n",
            "I\n",
            "K\n",
            "J\n"
          ]
        }
      ]
    },
    {
      "cell_type": "code",
      "source": [
        ""
      ],
      "metadata": {
        "id": "USWJSG45ZoGU"
      },
      "execution_count": null,
      "outputs": []
    }
  ]
}